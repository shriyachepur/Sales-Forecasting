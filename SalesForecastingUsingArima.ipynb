{
 "cells": [
  {
   "cell_type": "code",
   "execution_count": 1,
   "metadata": {},
   "outputs": [],
   "source": [
    "import darts\n",
    "from tqdm import tqdm\n",
    "import pandas as pd\n",
    "from darts import TimeSeries\n",
    "from darts.utils.missing_values import fill_missing_values"
   ]
  },
  {
   "cell_type": "code",
   "execution_count": 19,
   "metadata": {},
   "outputs": [],
   "source": [
    "from darts.models.forecasting.auto_arima import AutoARIMA\n",
    "from darts.models.forecasting.exponential_smoothing import ExponentialSmoothing"
   ]
  },
  {
   "cell_type": "code",
   "execution_count": 2,
   "metadata": {},
   "outputs": [],
   "source": [
    "from darts.models.forecasting import auto_arima"
   ]
  },
  {
   "cell_type": "code",
   "execution_count": 5,
   "metadata": {},
   "outputs": [
    {
     "name": "stderr",
     "output_type": "stream",
     "text": [
      "/Applications/anaconda3/lib/python3.7/site-packages/IPython/core/interactiveshell.py:3326: DtypeWarning: Columns (6,8,17,18) have mixed types.Specify dtype option on import or set low_memory=False.\n",
      "  exec(code_obj, self.user_global_ns, self.user_ns)\n"
     ]
    }
   ],
   "source": [
    "df = pd.read_csv(\"SalesDataAnalysis.csv\")"
   ]
  },
  {
   "cell_type": "code",
   "execution_count": 6,
   "metadata": {},
   "outputs": [],
   "source": [
    "df.drop(labels=['order_status','currency','ship_phone','phone_number','site','delivered_date','ship_date','ship_address_two','arrival_date','cancelled','description','fulfillment_center','item_id','package_number','price.1','quantity.1','requires_shipping','ship_date.1','shipment_id','sku','tax','title','unfulfillable','common_order_id','product_id.1','status','other_cost','refund','selling_cost'],inplace=True, axis=1)"
   ]
  },
  {
   "cell_type": "code",
   "execution_count": 7,
   "metadata": {},
   "outputs": [],
   "source": [
    "product_keys=df[df['product_id'].isnull()==False]['product_id']\n",
    "product_keys = list(set(list(product_keys)))"
   ]
  },
  {
   "cell_type": "code",
   "execution_count": 10,
   "metadata": {},
   "outputs": [],
   "source": [
    "df['purchase_date'] = df['purchase_date'].map(lambda s : s[:s.index(\" \")])"
   ]
  },
  {
   "cell_type": "code",
   "execution_count": 11,
   "metadata": {},
   "outputs": [],
   "source": [
    "d2=df.copy()\n",
    "fill=float(0)\n"
   ]
  },
  {
   "cell_type": "code",
   "execution_count": 16,
   "metadata": {},
   "outputs": [
    {
     "name": "stderr",
     "output_type": "stream",
     "text": [
      "100%|██████████| 129/129 [00:40<00:00,  3.20it/s]\n"
     ]
    }
   ],
   "source": [
    "data={}\n",
    "trainable_keys=[]\n",
    "for key in tqdm(product_keys):\n",
    "    d1=d2.copy()\n",
    "    d1=d1.loc[d1['product_id'] == key]\n",
    "    d1=d1.groupby(['purchase_date','product_id'],as_index=False).agg({'quantity': 'sum'})\n",
    "    series = TimeSeries.from_dataframe(d1,'purchase_date','quantity',freq='D')\n",
    "    series=fill_missing_values(series,fill=fill)\n",
    "    l=len(series)\n",
    "    l=int(l)\n",
    "    if l>=31:\n",
    "        #time_stamp=d1.iloc[len(d1)-5]['purchase_date']\n",
    "        #train, val = series.split_before(pd.Timestamp(time_stamp))\n",
    "        trainable_keys.append(key)\n",
    "        data[key]={\n",
    "            'train':series,\n",
    "            'val':series\n",
    "        }\n",
    "    "
   ]
  },
  {
   "cell_type": "code",
   "execution_count": 20,
   "metadata": {},
   "outputs": [
    {
     "name": "stderr",
     "output_type": "stream",
     "text": [
      "100%|██████████| 111/111 [10:50<00:00,  5.86s/it]\n"
     ]
    }
   ],
   "source": [
    "models_aarima={}\n",
    "for key in tqdm(trainable_keys):\n",
    "    #print(key)\n",
    "    train_data = data[key]['train']\n",
    "    #print(train_data)\n",
    "    val_data = data[key]['val']\n",
    "    model_aarima = AutoARIMA()\n",
    "    #model_aarima.min_train_series_length=4 \n",
    "    model_aarima.fit(train_data)\n",
    "    models_aarima[key] = model_aarima"
   ]
  },
  {
   "cell_type": "code",
   "execution_count": 21,
   "metadata": {},
   "outputs": [],
   "source": [
    "def predict(product_key,num):\n",
    "    model=models_aarima[product_key]\n",
    "    prediction = model.predict(num)\n",
    "    return prediction"
   ]
  },
  {
   "cell_type": "code",
   "execution_count": 37,
   "metadata": {},
   "outputs": [],
   "source": [
    "prediction=predict(trainable_keys[27],500)"
   ]
  },
  {
   "cell_type": "code",
   "execution_count": 35,
   "metadata": {},
   "outputs": [],
   "source": [
    "import matplotlib.pyplot as plt"
   ]
  },
  {
   "cell_type": "code",
   "execution_count": 38,
   "metadata": {},
   "outputs": [
    {
     "data": {
      "image/png": "[encoded data removed]",
      "text/plain": [
       "<Figure size 432x288 with 1 Axes>"
      ]
     },
     "metadata": {
      "needs_background": "light"
     },
     "output_type": "display_data"
    }
   ],
   "source": [
    "prediction.plot()"
   ]
  },
  {
   "cell_type": "code",
   "execution_count": null,
   "metadata": {},
   "outputs": [],
   "source": []
  }
 ],
 "metadata": {
  "kernelspec": {
   "display_name": "Python 3",
   "language": "python",
   "name": "python3"
  },
  "language_info": {
   "codemirror_mode": {
    "name": "ipython",
    "version": 3
   },
   "file_extension": ".py",
   "mimetype": "text/x-python",
   "name": "python",
   "nbconvert_exporter": "python",
   "pygments_lexer": "ipython3",
   "version": "3.7.4"
  }
 },
 "nbformat": 4,
 "nbformat_minor": 2
}
